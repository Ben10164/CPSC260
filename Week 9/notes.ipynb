{
 "cells": [
  {
   "cell_type": "markdown",
   "metadata": {},
   "source": [
    "```asm\n",
    "%rax = accumulate\n",
    "%rbx = base\n",
    "%rcx = counter\n",
    "%rdx = data\n",
    "%rsi = source index\n",
    "%rdi = destination index\n",
    "%rbp = base pointer\n",
    "%rsp = stack pointer (top of stack)\n",
    "```\n",
    "when moving the stack pointer up (push) you add 8 from the stack pointer  \n",
    "when moving the stack pointer down (pop) you subtract 8 from the stack pointer\n"
   ]
  },
  {
   "cell_type": "markdown",
   "metadata": {},
   "source": [
    "`C`\n",
    "```c\n",
    "long arith(long x, long y , long z)\n",
    "{\n",
    "    long t1 = x ^ y;\n",
    "    long t2 = x * 48;\n",
    "    long t3 = t! & 0x0F0F0F0F;\n",
    "    long t4 = t2 - t3;\n",
    "    return t4;\n",
    "}\n",
    "```\n",
    "`ASM`\n",
    "```asm\n",
    "    # long arith(long x, long y, long z)\n",
    "    # x in %rdi, y in %rsi, z in %rdx\n",
    "arith:\n",
    "    xorq %rsi, %rdi # t1 = x ^ y\n",
    "    leaq (%rdx, %rdx, 2), %rax # 3 * z\n",
    "    salq $4, %rax # t2 = 16 * (3 * z) = 48 * z (3 left shufts means times 16)\n",
    "    andl $252645135. %edi # t3 = t1 $ 0x0F0F0F0F ( & of 4 bytes means %edi is 4 bytes)\n",
    "    subq %rdi, %rax # return t2 - r3 ( %rax is the destination of the subtract\n",
    "    ret # (%rax will be the value returned by the function\n",
    "```"
   ]
  },
  {
   "cell_type": "markdown",
   "metadata": {},
   "source": [
    "`ASM`\n",
    "```asm\n",
    "    # short arith3(short x, short y, short z)\n",
    "    # x in %rdi, y in %rsi, z in %rdx\n",
    "arith3:\n",
    "    orq %rsi, %rdx # z = x or y (stored in p1)\n",
    "    sarq $9, %rdx # arithmetic mov to the right by 9 (stored in p2)\n",
    "    notq %rdx # the compliment (not) of rdx (p2) (stored in p3)\n",
    "    movq %rdx, %rbx # move p3 to rbx\n",
    "    subq $rsi, %rbx # subtract rbx (p3) from rsi (y) \n",
    "    ret\n",
    "```\n",
    "`C`\n",
    "```C\n",
    "short aith3(short x, short y, short z)\n",
    "{\n",
    "    short p1 = y | z;\n",
    "    short p2 = p1 >> 9;\n",
    "    short p3 = ~p2;\n",
    "    short p4 = y - p3;\n",
    "    return p4;\n",
    "}\n",
    "```"
   ]
  },
  {
   "cell_type": "markdown",
   "metadata": {},
   "source": [
    "a way to reset a register is to xor to itself\n",
    "```asm\n",
    "0101 xor 0101 = 0000\n",
    "```"
   ]
  }
 ],
 "metadata": {
  "language_info": {
   "name": "python"
  },
  "orig_nbformat": 4
 },
 "nbformat": 4,
 "nbformat_minor": 2
}
