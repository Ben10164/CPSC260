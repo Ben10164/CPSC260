{
 "cells": [
  {
   "cell_type": "markdown",
   "metadata": {},
   "source": [
    "// Absolute Difference\n",
    "```c\n",
    "long absdiff (long x, long y)\n",
    "{\n",
    "    long result;\n",
    "    if(x > y)\n",
    "        result = x-y;\n",
    "    else\n",
    "        result = y-x;\n",
    "    return result;\n",
    "}\n",
    "```\n",
    "```asm\n",
    "x -> %rdi\n",
    "y -> %rsi\n",
    "result -> %rax\n",
    "\n",
    "absdiff:\n",
    "    cmp     %rsi, %rdi \n",
    "    jle     .L4\n",
    "        movq    %rdi, %rax\n",
    "        subq    %rsi, %rax\n",
    "    ret\n",
    ".L4:\n",
    "    movq    %rsi, %rax\n",
    "    subq    %rdi, %rax\n",
    "    ret\n",
    "```"
   ]
  },
  {
   "cell_type": "markdown",
   "metadata": {},
   "source": [
    "```c\n",
    "long function(long x,long y){\n",
    "    long result = 0;\n",
    "    if (x<y){\n",
    "        result = y-x;\n",
    "    }else if (x>y){\n",
    "        result = x-y;\n",
    "    }else{\n",
    "        result = x + 1;\n",
    "    }\n",
    "    return result;\n",
    "}\n",
    "\n",
    "```\n",
    "\n",
    "```asm\n",
    "# y -> %rdi\n",
    "# x -> %rsi\n",
    "# result -> %rax\n",
    "\n",
    "function:\n",
    "    cmpq %rsi, %rdi # compare x,y\n",
    "    JL .L4 # result = y -x (if x less than y)\n",
    "    JG .L5 # result = x-y (if x greater than y)\n",
    "    \n",
    "    # result = x + 1 (if they are equal)\n",
    "    movq %rdi, %rax\n",
    "    incq %rax \n",
    "    ret\n",
    "\n",
    ".L4: \n",
    "    movq %rsi, %rax\n",
    "    subq %rdi, %rax\n",
    "    ret\n",
    "\n",
    ".L5 \n",
    "    movq %rdi, %rax\n",
    "    subq %rsi, %rax\n",
    "    ret\n",
    "```"
   ]
  },
  {
   "cell_type": "markdown",
   "metadata": {},
   "source": []
  }
 ],
 "metadata": {
  "language_info": {
   "name": "python"
  },
  "orig_nbformat": 4
 },
 "nbformat": 4,
 "nbformat_minor": 2
}
