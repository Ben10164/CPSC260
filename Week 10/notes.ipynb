{
 "cells": [
  {
   "cell_type": "markdown",
   "metadata": {},
   "source": [
    "```asm\n",
    "A=01101100  \n",
    "B=00100010  \n",
    "now what is -A + B?  \n",
    "1. find the 2s of A,\n",
    "    * 10010100\n",
    "    * (pos sign bit) + 0010100\n",
    "2. 10010100 + 00100010 = 10110110\n",
    "3. now we take the 2s compliment of the result (to get the negative number it represents in decimal)\n",
    "    * the 2s compliment is 01001010\n",
    "    * this is 74,\n",
    "    * therefore the answer is -74\n",
    "```"
   ]
  },
  {
   "cell_type": "markdown",
   "metadata": {},
   "source": [
    "* some constructs in C such as condidtional, loops, and swtiches, require condition execuition, where the sequence of operations that get performed depends on the outcome of tests applied to the data\n",
    "* machine code provides two basic low-level mechanisms for implementing conditional behavior: it `test data values` and then `alters either the control flow` or the `data flow` based on the results of these tests\n",
    "* data:\n",
    "    * Temporary Data (`%rax`)\n",
    "    * Location of runtime stack (`%rsp`)\n",
    "    * Location of current code control point (`%rip`)\n",
    "    * Status of recent tests (`CF, ZF, SF, OF`)\n",
    "        * Control Flag\n",
    "        * Zero Flag\n",
    "        * Signed Flag\n",
    "        * Overflow Flag\n",
    "            * you can use the overflow flag to see if a subtraction resulted with a negative number\n",
    "            * -8 + 9 = 10001, since the overflow bit is active ... uh he said things ... meaning the answer is +1"
   ]
  }
 ],
 "metadata": {
  "language_info": {
   "name": "python"
  },
  "orig_nbformat": 4
 },
 "nbformat": 4,
 "nbformat_minor": 2
}
