{
 "cells": [
  {
   "cell_type": "markdown",
   "metadata": {},
   "source": [
    "```asm\n",
    "A=01101100  \n",
    "B=00100010  \n",
    "now what is -A + B?  \n",
    "1. find the 2s of A,\n",
    "    * 10010100\n",
    "    * (pos sign bit) + 0010100\n",
    "2. 10010100 + 00100010 = 10110110\n",
    "3. now we take the 2s compliment of the result (to get the negative number it represents in decimal)\n",
    "    * the 2s compliment is 01001010\n",
    "    * this is 74,\n",
    "    * therefore the answer is -74\n",
    "```"
   ]
  },
  {
   "cell_type": "markdown",
   "metadata": {},
   "source": [
    "* some constructs in C such as condidtional, loops, and swtiches, require condition execuition, where the sequence of operations that get performed depends on the outcome of tests applied to the data\n",
    "* machine code provides two basic low-level mechanisms for implementing conditional behavior: it `test data values` and then `alters either the control flow` or the `data flow` based on the results of these tests\n",
    "* data:\n",
    "    * Temporary Data (`%rax`)\n",
    "    * Location of runtime stack (`%rsp`)\n",
    "    * Location of current code control point (`%rip`)\n",
    "    * Status of recent tests (`CF, ZF, SF, OF`)\n",
    "        * Control Flag\n",
    "        * Zero Flag\n",
    "        * Signed Flag\n",
    "        * Overflow Flag\n",
    "            * you can use the overflow flag to see if a subtraction resulted with a negative number\n",
    "            * -8 + 9 = 10001, since the overflow bit is active ... uh he said things ... meaning the answer is +1"
   ]
  },
  {
   "cell_type": "markdown",
   "metadata": {},
   "source": [
    "```asm\n",
    "# for conditionals we will use cmp and test\n",
    "cmp # S1, S2, based on S2 - S1\n",
    "cmpb # compare byte\n",
    "cmpw # compare word\n",
    "cmpl # compare double word\n",
    "cmpq # compare quad word\n",
    "\n",
    "test # S1, S2, based on S1 & S2\n",
    "testb # test byte\n",
    "test2 # test word\n",
    "testl # test double word\n",
    "testq # test quad word\n",
    "```\n",
    "\n",
    "compare basically just subtracts them, and then looks at the overflow flag to see if the value is negative  \n",
    "test basically just &s them"
   ]
  },
  {
   "cell_type": "markdown",
   "metadata": {},
   "source": [
    "```asm\n",
    "cmpw Src2, Src1\n",
    "cmpq a, b # like computing a-b without setting destination\n",
    "```\n",
    "* CF set if carry out from most significant bit (used for unsigned comparisons)  \n",
    "* ZF set is a == b \n",
    "* SF set if (a-b) < a (as signed)  \n",
    "* OF set if two's compliment (signed) overflow \n",
    "    * (a>- && b<0 && (a-b)<0) || (a<0 && b>0 && (a-b)>0)"
   ]
  },
  {
   "cell_type": "markdown",
   "metadata": {},
   "source": [
    "example: 5-8=-3 || -5+8=3  \n",
    "5 (0101) - 8 (1000) = (1101), use 2's compliment, -3 "
   ]
  },
  {
   "cell_type": "markdown",
   "metadata": {},
   "source": [
    "```asm\n",
    "test1 Src2, Src1\n",
    "testq a,b # like computing a&b without setting destination\n",
    "```\n",
    "ZF set when a&b == 0\n",
    "SF set when a&b < 0\n",
    "for example: \n",
    "```asm\n",
    "testq %rax, %rax # to see when %rax is negative, zero, or positive\n",
    "```\n",
    "* %rax & %rax is just %rax, but it will still return the ZF or SF flags:\n",
    "    * if ZF flag is set, that means %rax is 0\n",
    "    * if SF flag is set, that means &rax is negative"
   ]
  },
  {
   "cell_type": "markdown",
   "metadata": {},
   "source": [
    "```asm\n",
    "sete ZF # Equal/Zero\n",
    "setne ~ZF # not equal / not zero\n",
    "sets SF # negative\n",
    "setns ~SF # nonnegative\n",
    "setg ~(SF^OF) & ~ZF # greater (signed)\n",
    "```"
   ]
  },
  {
   "cell_type": "markdown",
   "metadata": {},
   "source": [
    "```c\n",
    "if(a==b){\n",
    "    printf(\"Equal\");\n",
    "}else{\n",
    "    printf(\"Not equal\");\n",
    "}\n",
    "```\n",
    "```asm\n",
    "# we want to do something if they are equal, so we go\n",
    "printf1:\n",
    "    .ascii \"Equal\"\n",
    "a in %rax\n",
    "b in %rbx\n",
    "comp %rac, %rbx \n",
    "jmp L2\n",
    "\n",
    "L2:\n",
    "printf1 # if the above condition is true, it will do this line\n",
    "\n",
    "\n",
    "jmp, 1, unconditional\n",
    "je, ZF, equal/zero\n",
    "jme, ~ZF\n",
    "\n",
    "\n",
    "cmp # this will set all the flag\n",
    "JE # jump if the zero flag is set"
   ]
  }
 ],
 "metadata": {
  "language_info": {
   "name": "python"
  },
  "orig_nbformat": 4
 },
 "nbformat": 4,
 "nbformat_minor": 2
}
