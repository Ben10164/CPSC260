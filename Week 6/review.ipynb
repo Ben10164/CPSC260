{
 "cells": [
  {
   "cell_type": "markdown",
   "metadata": {},
   "source": [
    "### 9 questions\n",
    "1. Computer architecutre (what CPUs do and differences for architecture)\n",
    "2. Computer architecutre (what CPUs do and differences for architecture)\n",
    "3. conversions\n",
    "4. hex, binary, decimal\n",
    "5. signed numbers\n",
    "6. SOP and POS\n",
    "    * minterms\n",
    "    * maxterms\n",
    "7. logicical operations\n",
    "    * will the result be true of false (show it in HEX 0x1=true, 0x0=false)\n",
    "8. *Property Confirmation*\n",
    "    * given the right side, make the left side\n",
    "9. C Code\n",
    "    * fill in the missing stuff\n",
    "    * based off the type of variables"
   ]
  },
  {
   "cell_type": "markdown",
   "metadata": {},
   "source": [
    "ascii max is 7bit  "
   ]
  },
  {
   "cell_type": "markdown",
   "metadata": {},
   "source": [
    "```\n",
    "hello.c (source program) -preprocessor-> hello.i (modified sourcecode)\n",
    "hello.i (modified sourcecode) -compiler-> hello.s (assembly program) \n",
    "hello.s (assembly program) -assembler-> hello.o (relocatable object program [binary])\n",
    "hello.o (relocatable object program [binary]) -linker-> hello (binary)\n",
    "```"
   ]
  },
  {
   "cell_type": "markdown",
   "metadata": {},
   "source": [
    "* Load \n",
    "    * copy a byte or word from main memory inmto register\n",
    "* Store\n",
    "    * copy a byte or a word from a register to a location in main memory (overwrites)\n",
    "* Operate\n",
    "    * copy the contents of the two registers (e.g. B,C) to the alu, perform an arithmetic operatorn on the two words, and store the result in a register (overwrites)\n",
    "* Jump"
   ]
  },
  {
   "cell_type": "markdown",
   "metadata": {},
   "source": [
    "$(11.111)_2 = 2^1 + 2^0 + 2^{-1} + 2^{-2} + 2^{-3} = 3 \\frac{5}{8}$  \n",
    "$0.2 = (0.001100110011[0011]...)_{2}$ "
   ]
  },
  {
   "cell_type": "markdown",
   "metadata": {},
   "source": [
    "# LOOK AT THE SIZES OF THE TYPES CHART"
   ]
  },
  {
   "cell_type": "markdown",
   "metadata": {},
   "source": [
    "### Boolean algebra"
   ]
  },
  {
   "cell_type": "markdown",
   "metadata": {},
   "source": [
    "01101001 = {0,3,5,6}  \n",
    "Width w bit bector represents subsets of $\\{0,...,w-1\\}$ or a bit vector $\\{a_w=1 ... a_1, a_0\\}$  \n",
    "where $a_j = 1 $ if $j \\in A$"
   ]
  },
  {
   "cell_type": "markdown",
   "metadata": {},
   "source": [
    "A&B = A Intersection B  \n",
    "A|B = A Union B"
   ]
  },
  {
   "cell_type": "markdown",
   "metadata": {},
   "source": [
    "`0x69 | 0x55 -> 0x7D`"
   ]
  },
  {
   "cell_type": "markdown",
   "metadata": {},
   "source": [
    "$(F\\times16)_16$ is the max 64 number"
   ]
  },
  {
   "cell_type": "markdown",
   "metadata": {},
   "source": [
    "to reset everything but the first 8 bits you can do &0xFF"
   ]
  },
  {
   "cell_type": "markdown",
   "metadata": {},
   "source": [
    "to remove (reset) the last bit (largest) idk he moved on without explaining"
   ]
  },
  {
   "cell_type": "markdown",
   "metadata": {},
   "source": [
    "0x00 is false, 0x01 is true"
   ]
  },
  {
   "cell_type": "markdown",
   "metadata": {},
   "source": [
    "!0x41 = 0x00  (if its not 0x00, the compliment is 0x00 (false))"
   ]
  },
  {
   "cell_type": "markdown",
   "metadata": {},
   "source": [
    "<< left shift  \n",
    "\\>\\> right shift\n",
    "\n",
    "loigical shift, fill with 0s on the eft  \n",
    "arithmetic shift, replace most significant bit on left\n",
    "\n",
    "10100010  \n",
    "log. >> 2 = 00101000  \n",
    "arith, >> 2 = 11101000  "
   ]
  },
  {
   "cell_type": "markdown",
   "metadata": {},
   "source": [
    "* sign magnitude $(5_{10} = 0101_2 \\to -5_{10} = 1101_2)$\n",
    "* 1s compliment: compliment each bit of the number\n",
    "* 2s compliment: 1s compliment + 1"
   ]
  },
  {
   "cell_type": "markdown",
   "metadata": {},
   "source": [
    "# Know the four-bit signed integers table"
   ]
  }
 ],
 "metadata": {
  "language_info": {
   "name": "plaintext"
  },
  "orig_nbformat": 4
 },
 "nbformat": 4,
 "nbformat_minor": 2
}
