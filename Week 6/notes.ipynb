{
 "cells": [
  {
   "cell_type": "markdown",
   "metadata": {},
   "source": [
    "* movb, 1byte (move byte)\n",
    "* movw 2 (move word)\n",
    "* movl 4 (move double word or long w)\n",
    "* movq 4 integer (ov quad word) and 8 byte double precision floating point number"
   ]
  },
  {
   "cell_type": "markdown",
   "metadata": {},
   "source": [
    "if you want to add 2 numbers in the register you do  \n",
    "add ax, bx  \n",
    "the result is stored in bx  \n",
    "\n",
    "%aL is 1 byte  \n",
    "ax is 2 byte  \n",
    "%eax is 4 byte   \n",
    "%rax is the register, which is 8 byte (most likely 64 bit)  \n",
    "\n",
    "e.g. r8 is at register 8, and a 64 bit register"
   ]
  },
  {
   "cell_type": "markdown",
   "metadata": {},
   "source": [
    "different operand can be calssifiend into three tyes:\n",
    "1. 1st type: Immediate (constant) values: \\$ e.g. \\$0x1F\n",
    "    * LOOK AT THE BOOK AND COPY THE STUFF IN\n",
    "1. 2nd type: Register values: denoted contents of a ragister, $R[r_a]$ content of an arbitrary register a as an array R index\n",
    "1. 3rd type: Memory valeus: we access some memory location according to a computed address called effective address"
   ]
  },
  {
   "cell_type": "markdown",
   "metadata": {},
   "source": [
    "$M_b[addr]$ this is a reference to the b-byte value stored in memory starting at address addr."
   ]
  },
  {
   "cell_type": "markdown",
   "metadata": {},
   "source": [
    "(%rax, %rbx, 4) is b * 4, + a"
   ]
  }
 ],
 "metadata": {
  "language_info": {
   "name": "plaintext"
  },
  "orig_nbformat": 4
 },
 "nbformat": 4,
 "nbformat_minor": 2
}
