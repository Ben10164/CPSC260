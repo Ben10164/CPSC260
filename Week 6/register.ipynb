{
 "cells": [
  {
   "cell_type": "markdown",
   "metadata": {},
   "source": [
    "0 - 63: rax  \n",
    "0 - 31: eax  \n",
    "0 - 15: ax  \n",
    "0 - 7: al  \n",
    "\n",
    "so: mov %eax, %ebm: will move 32 bits because %eax is 32 bit"
   ]
  },
  {
   "cell_type": "markdown",
   "metadata": {},
   "source": [
    "#### **NOTE**\n",
    "* D(%x, %y, S) = D + %x + %y * S"
   ]
  },
  {
   "cell_type": "markdown",
   "metadata": {},
   "source": [
    "%rsp reserved for special use:  \n",
    "address|value|register|value\n",
    "-|-|-|-\n",
    "0x100|oxFF|%rax|0x100\n",
    "0x104|0xAB|%rcx|0x1\n",
    "0x108|0x13|%rdx|0x3\n",
    "0x10C|0x11| |\n",
    "\n",
    "* %rax = a register = 0x100\n",
    "* 0x104 = an address = 0xAB\n",
    "* $0x108 = immediate access = 0x108 \n",
    "* (%rax) = parenthesis means this is an address. You go to the address and see the location = (0x100) = 0xFF\n",
    "* 4(%rax) = 4 + the address of the of rax = (4 + 0x100) = (0x104) = 0xAB\n",
    "* 9(%rax, %rdx) = (9 + 0x100 + 0x3) = (0x109 + 0x3) = (0x10C) = 0x11\n",
    "* 260(%rcx, %rdx) = (260 + 0x1 + 0x3) = (264) in decimal = (0x108) = 0x13\n",
    "* 0xFC(,%rcx,4) = 0xFC + _ + (%rcx * 4) = 0xFC + (1 * 4) = (0xFC + 4) = (0x100) = 0xFF"
   ]
  },
  {
   "cell_type": "markdown",
   "metadata": {},
   "source": [
    "If parenthesis that means that the reuslt with be an address  \n",
    "if there is a dollar sign, it is absolute / immediate   \n",
    "% is the beginning of any register   "
   ]
  },
  {
   "cell_type": "markdown",
   "metadata": {},
   "source": [
    "movq Source, Dest\n",
    "\n",
    "MOV : Description  \n",
    "movb : move byte  \n",
    "movw : move word  \n",
    "movl : move double word  \n",
    "movq : move quad word  \n",
    "movabsq : move absolute quad word  \n",
    "\n",
    "memory means (), immediate means $ [ stored in reg or mem', % register, and   \n",
    "**only Movl has a register as destination**\n",
    "\n",
    "if you add l to the end of a thing, you only take the first byte from it "
   ]
  },
  {
   "cell_type": "code",
   "execution_count": null,
   "metadata": {},
   "outputs": [],
   "source": [
    "movl $0x4050, %eax   Immediate--Register, 4 byte\n",
    "movw %bp, %sp        Register--Register, 2 byte\n",
    "movb (%rdi, %rcx),   Memory--Memory, 1 byte\n",
    "movb $-17, (%esp)    Immediate--Memory, 1 byte (NOTE: Will create memory at %esp)\n",
    "movq %rax, -12(%rbp) Register--Memory, 8 byte"
   ]
  }
 ],
 "metadata": {
  "language_info": {
   "name": "plaintext"
  },
  "orig_nbformat": 4
 },
 "nbformat": 4,
 "nbformat_minor": 2
}
