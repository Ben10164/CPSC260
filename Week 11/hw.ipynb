{
 "cells": [
  {
   "cell_type": "markdown",
   "metadata": {},
   "source": [
    "```asm\n",
    "$ is decimal\n",
    "\n",
    "addq %rcx, (%rax) # add the value of rcx to the value at the address of the register stated in rax\n",
    "subq %rdx, 8(%rax) # destination is 8 + the address of %rax, and the value will be the address of rax + 8, - the value at %rdx\n",
    "incq 16(%rax) # is 0x16 + (%rax)\n",
    "```"
   ]
  },
  {
   "cell_type": "markdown",
   "metadata": {},
   "source": []
  }
 ],
 "metadata": {
  "language_info": {
   "name": "python"
  },
  "orig_nbformat": 4
 },
 "nbformat": 4,
 "nbformat_minor": 2
}
