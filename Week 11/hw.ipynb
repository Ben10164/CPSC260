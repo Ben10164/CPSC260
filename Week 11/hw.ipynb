{
 "cells": [
  {
   "cell_type": "markdown",
   "metadata": {},
   "source": [
    "```asm\n",
    "$ is decimal\n",
    "\n",
    "addq %rcx, (%rax) # add the value of rcx to the value at the address of the register stated in rax\n",
    "subq %rdx, 8(%rax) # destination is 8 + the address of %rax, and the value will be the address of rax + 8, - the value at %rdx\n",
    "incq 16(%rax) # is 0x16 + (%rax)\n",
    "```"
   ]
  },
  {
   "cell_type": "markdown",
   "metadata": {},
   "source": [
    "AYO\n",
    "OKAY SO TO PRINT SOMETHING IN ASELBPY\n",
    "\n",
    "```asm\n",
    "Lc0: ascii \"Enter a number\"\n",
    "\n",
    "movl $Lco, (%esp) # this moves the ascii stuff in Lc0 to the top of the stack pointer\n",
    "call -printf # this will print the top of the stack\n",
    "```"
   ]
  },
  {
   "cell_type": "code",
   "execution_count": null,
   "metadata": {},
   "outputs": [],
   "source": []
  }
 ],
 "metadata": {
  "language_info": {
   "name": "python"
  },
  "orig_nbformat": 4
 },
 "nbformat": 4,
 "nbformat_minor": 2
}
