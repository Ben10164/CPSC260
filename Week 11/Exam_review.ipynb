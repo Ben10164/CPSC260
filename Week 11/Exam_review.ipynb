{
 "cells": [
  {
   "cell_type": "markdown",
   "metadata": {},
   "source": [
    "1. history of the processors, size of them, how they generate what they do\n",
    "    * make sure you understand the chart\n",
    "1. we are given either c code or assembly code, and we will write it in the other type\n",
    "1. wStack an process of Push and Pop from the stack\n",
    "4. HW 5a (the memory, value, address stuff)\n",
    "5. given the following C code and assym... he tabbed out and didnt explain this one\n"
   ]
  },
  {
   "cell_type": "markdown",
   "metadata": {},
   "source": [
    "1. History --- intro\n",
    "1. LEAQ (load effective)\n",
    "1. If you know the value of a register, and the value of memory\n",
    "    1. 5a. BUT TREAT THEM IN ORDER\n",
    "1. if-else\n",
    "    1. convert the c code, or pseudo code to assembly\n",
    "    1. `NOTE` the final else will always follow the original cmp\n",
    "    1. all the other if statements will jump to another thing\n",
    "    1. WHAT IS THE DIFFERENCE BETWEEN CMP AND TEST\n",
    "```asm\n",
    "            cmp %rax, %rsi\n",
    "            jump\n",
    "            or test\n",
    "```\n",
    "5. "
   ]
  }
 ],
 "metadata": {
  "language_info": {
   "name": "python"
  },
  "orig_nbformat": 4
 },
 "nbformat": 4,
 "nbformat_minor": 2
}
