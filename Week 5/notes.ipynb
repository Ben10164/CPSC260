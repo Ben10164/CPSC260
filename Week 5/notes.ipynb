{
 "cells": [
  {
   "cell_type": "markdown",
   "metadata": {},
   "source": [
    "# Week 5"
   ]
  },
  {
   "cell_type": "markdown",
   "metadata": {},
   "source": [
    "### no new info learned:\n",
    "* USB - universal serial bus\n",
    "* GPU - graphics process unit \n",
    "* grpahic cards have memory, like vram\n",
    "* cpus can have multi-core (multiple cpus working together)  \n",
    " \n",
    "Memory stored in:\n",
    "1. CPU - Cache (speed is the speed of the cpu)\n",
    "1. RAM - fast, but slow (not really used for storing file, more like storing temporary values during the usage of the computer)\n",
    "1. Hard Drive (slow lol, but very large)\n",
    "\n",
    "* Size of the register (in the cpu) is bassed on the architecture of the machine (32bit vs 64bit)"
   ]
  },
  {
   "cell_type": "code",
   "execution_count": null,
   "metadata": {},
   "outputs": [],
   "source": [
    "#include <stdio.h>\n",
    "int main()\n",
    "{\n",
    "    int x;\n",
    "    printf(\"Enter a number\\n\");\n",
    "    scanf(\"%d\", &x);\n",
    "    if ((x & 1) == 1) // if the last bit of x is a 1\n",
    "        printf(\"x if odd!\\n\");\n",
    "    else\n",
    "        printf(\"x is even!\\n\");\n",
    "    \n",
    "    printf(\"Your nmber is %d \\n\");\n",
    "    return 0;\n",
    "}"
   ]
  },
  {
   "cell_type": "markdown",
   "metadata": {},
   "source": [
    "### Bit shifting example\n",
    "* see bitshifting.c"
   ]
  },
  {
   "cell_type": "code",
   "execution_count": null,
   "metadata": {},
   "outputs": [],
   "source": [
    "/* c Program to demonstrate use of left and right shift operators*/\n",
    "#include <stdio.h>\n",
    "int main()\n",
    "{\n",
    "    unsigned char x = 0b11; /* 0x03 or 3 in decimal try to ox3f*/\n",
    "    unsigned char y = 0b10; /* 0x02 or 2 in decimal */\n",
    "\n",
    "    // a = 5 (00000101), b = 9(00001001)\n",
    "    unsigned char a = 5, b = 9;\n",
    "\n",
    "    unsigned short a1 = 0x55, b1 = 0x46;\n",
    "    // unsigned char x = 0b01100011; /* 0x63 or 99 in decimal */\n",
    "    // unsigned char y = 0b10010101; /*0x95 or 149 in decimal */\n",
    "\n",
    "    // The result for x fill the left or right shift\n",
    "    printf(\"x»>1 = %x \\n\", x >> 1);\n",
    "\n",
    "    // The result for y fill the right in left shift\n",
    "    printf(\"y = 0x%x \\n\", y);\n",
    "    printf(\"y<<1 =0x%x \\n\", y << 1);\n",
    "\n",
    "    // The result for a\n",
    "    printf(\"a<<1 = %d in decimal\\n\", a << 1);\n",
    "\n",
    "    // The result for b\n",
    "    printf(\"b<<1 = %d in decimal\\n\", b << 1);\n",
    "\n",
    "    printf(\"a1&b1=%x\\n\", a1 & b1);\n",
    "    printf(\"a1&&b1=%x\\n\", a1 && b1);\n",
    "    printf(\"a&b=%x\\n\", a & b);\n",
    "    printf(\"a&b=%x\\n\", a & b);\n",
    "    printf(\"a&b=%x\\n\", a & b);\n",
    "    return 0;\n",
    "}"
   ]
  },
  {
   "cell_type": "markdown",
   "metadata": {},
   "source": [
    "data type|min|max\n",
    "-|-|-\n",
    "char|-128|127\n",
    "unsinged char|0|255\n",
    "short|-32767|32767\n",
    "ushort|0|65353\n",
    "int|-32767|32767\n",
    "uint|0|65353\n",
    "long|-2147483648|2147483647\n",
    "ulong|0|4294967295\n",
    "int32_t|-2147483648|2147483647\n",
    "uints32_t|0|4294967295\n",
    "int64_t|-9223372036854775808|9223372036854775807\n",
    "uint64_t|0|184446744073709551615\n",
    "\n"
   ]
  },
  {
   "cell_type": "markdown",
   "metadata": {},
   "source": [
    "* How to find second compliment:\n",
    "1. compliment the number\n",
    "2. then add 1 to it\n",
    "\n",
    "1011 -> 0100 (first compliment)  \n",
    "0100 -> 0100 + 0001 = 0101 (second compliment)  \n",
    "\n",
    "1100 (-3) -> 0011 (3) -> 0100 (4)\n"
   ]
  },
  {
   "cell_type": "markdown",
   "metadata": {},
   "source": [
    "#### What is $1011.101_2$  \n",
    "$1011.101_2 = 11_10 + 0.265_10 = 11.625_10$\n",
    "\n",
    "\n",
    "* First . point bit is 1/2, then 1/4, 1/8, 1/16 etc  \n",
    "    * so $.101_2 = \\frac{1}{2} + \\frac{0}{4}+ \\frac{1}{8} = \\frac{5}{8} = 0.625$ \n",
    "\n",
    "$1101.01101_2 = (1*2^3) + (1*2^2) + (0*2^1) + (1*2^0) + (\\frac{0}{2} + \\frac{1}{4} + \\frac{1}{8} + \\frac{0}{16} + \\frac{1}{32}) = 13 + \\frac{13}{32}$  "
   ]
  },
  {
   "cell_type": "markdown",
   "metadata": {},
   "source": [
    "* Because of this, something like 1.1111111 that goes on forever will *EVENTUALLY* become 2, but only after an *infinite* amount of 1's\n",
    "    * think Zeno's paradox"
   ]
  },
  {
   "cell_type": "markdown",
   "metadata": {},
   "source": [
    "#### Reading\n",
    "* Check out pages: 149-163\n",
    "* Do the problems 2.16, 2.17, 2.14, 2.45"
   ]
  }
 ],
 "metadata": {
  "language_info": {
   "name": "plaintext"
  },
  "orig_nbformat": 4
 },
 "nbformat": 4,
 "nbformat_minor": 2
}
