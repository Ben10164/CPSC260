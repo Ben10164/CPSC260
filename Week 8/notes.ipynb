{
 "cells": [
  {
   "cell_type": "markdown",
   "metadata": {},
   "source": [
    "%rsp reserved for special use:  \n",
    "address|value|register|value\n",
    "-|-|-|-\n",
    "0x100|oxFF|%rax|0x100\n",
    "0x104|0xAB|%rcx|0x1\n",
    "0x108|0x13|%rdx|0x3\n",
    "0x10C|0x11| |\n",
    "\n",
    "* %rax = a register = 0x100\n",
    "* 0x104 = an address = 0xAB\n",
    "* $0x108 = immediate access = 0x108 \n",
    "* (%rax) = parenthesis means this is an address. You go to the address and see the location = (0x100) = 0xFF\n",
    "* 4(%rax) = 4 + the address of the of rax = (4 + 0x100) = (0x104) = 0xAB\n",
    "* 9(%rax, %rdx) = (9 + 0x100 + 0x3) = (0x109 + 0x3) = (0x10C) = 0x11\n",
    "* 260(%rcx, %rdx) = (260 + 0x1 + 0x3) = (264) in decimal = (0x108) = 0x13\n",
    "* 0xFC(,%rcx,4) = 0xFC + _ + (%rcx * 4) = 0xFC + (1 * 4) = (0xFC + 4) = (0x100) = 0xFF"
   ]
  },
  {
   "cell_type": "markdown",
   "metadata": {},
   "source": [
    "Memory means ( ), immediate means $, register means %\n"
   ]
  },
  {
   "cell_type": "markdown",
   "metadata": {},
   "source": [
    "```c\n",
    "void swap (long *xp, long *yp) \n",
    "{\n",
    "    long t0 = *xp; /* the data in memory that stored at the address pointed by xp (*xp) move to t0 variable */\n",
    "    long t1 = *yp; /* the data in memory that stored at the address pointed by yp (*yp) move to t1 variable */\n",
    "\n",
    "    *xp = t1; /* move value of t1 to memory pointed by xp */\n",
    "    *yp = t0; /* move value of t0 to memory pointed by yp */\n",
    "}\n",
    "```"
   ]
  },
  {
   "cell_type": "markdown",
   "metadata": {},
   "source": [
    "```asm\n",
    "swap:\n",
    "    movq    (%rdi), %rax  # t0 = *xp\n",
    "    movq    (%rsi), %rbx  # t1 = *yp\n",
    "    movq    %rbx, (%rdi)  # *xp = t1\n",
    "    movq    %rax, (%rsi)  # *yp = t0\n",
    "    ret\n",
    "```"
   ]
  },
  {
   "cell_type": "markdown",
   "metadata": {},
   "source": [
    "```c\n",
    "void decode1(long *xp, long *yp, long *zp);\n",
    "```"
   ]
  },
  {
   "cell_type": "markdown",
   "metadata": {},
   "source": [
    "```asm\n",
    "# void decode1(long *xp, long *yp, long *zp)\n",
    "# xp in %rdi, yp in %rsi, zp in %rdx\n",
    "    # AKA\n",
    "        # xp -> %rdi\n",
    "        # yp -> %rsi\n",
    "        # zp -> %rdx\n",
    "decode1:\n",
    "    movq    (%rdi), %r8\n",
    "    movq    (%rsi), %rcx\n",
    "    movq    (%rdx), %rax\n",
    "    movq    %r8, (%rsi)\n",
    "    movq    %rcx, (%rdx)\n",
    "    movq    %rax, (%rdi)\n",
    "    ret\n",
    "```"
   ]
  },
  {
   "cell_type": "markdown",
   "metadata": {},
   "source": [
    "```c\n",
    "void decode1(long *xp, long *yp, long *zp){\n",
    "    long x = *xp;\n",
    "    long y = *yp;\n",
    "    long z = *zp;\n",
    "\n",
    "    *yp = x;\n",
    "    *zp = y;\n",
    "    *xp = z;\n",
    "}\n",
    "```"
   ]
  },
  {
   "cell_type": "markdown",
   "metadata": {},
   "source": [
    "### stacks\n",
    "* push operation means to add data to a stack\n",
    "* pop operation means to remove data from a stack\n",
    "* LAST IN, FIRST OUT\n",
    "\n",
    "instruction|effect|description\n",
    "----------|------|-----------\n",
    "pushq S| R[%rsp] <- R[%rsp] -8; M[R[%rsp]] <- S|push S (quad word) \n",
    "popq D| D <- M[R[%rsp]]; R[%rsp] <- R[%rsp] + 8|pop D (quad word)"
   ]
  },
  {
   "cell_type": "markdown",
   "metadata": {},
   "source": [
    "```asm\n",
    "sbq $8, %rsp  # decrement stack pointer  \n",
    "movq %rbs, (%rsp) # store the value of %rbp at the new stack pointer location  \n",
    "```"
   ]
  },
  {
   "cell_type": "markdown",
   "metadata": {},
   "source": [
    "pop %rsp is equivalent to:  "
   ]
  },
  {
   "cell_type": "markdown",
   "metadata": {},
   "source": [
    "```asm\n",
    "movq (%rsp), %rax # load the value of the stack pointer at the old stack pointer location  \n",
    "addq $8, %rsp # increment stack pointer\n",
    "```"
   ]
  },
  {
   "cell_type": "markdown",
   "metadata": {},
   "source": [
    "Basically you move the \"top\" of the stack pointer down 8 bytes (-8), then set those 8 bytes to the new value `%rbp`   \n",
    "For (POP) we just move whatever is at the stack pointer to a new variable `%rbp`, then move the stack pointer (+8)\n",
    "##### We will always use %rsp for the stack pointer (top of stack)."
   ]
  },
  {
   "cell_type": "markdown",
   "metadata": {},
   "source": [
    "```asm\n",
    "movabsq $0x0011223344556677, %rax   # %rax = 0011223344556677\n",
    "movb    $-1, %al                    # %rax = 00112233445566FF\n",
    "movw    $=1, %ax                    # %rax = 001122334455FFFF\n",
    "movl    $-1, %eax                   # %rax = 00000000FFFFFFFF\n",
    "movq    $-1, %rax                   # %rax = FFFFFFFFFFFFFFFF\n",
    "\n",
    "movabsq $0x0011223344556677, %rax   # %rax = 0011223344556677\n",
    "movb    $0xAA, %d                   # %dl = AA\n",
    "movb    %dl, %al                    # %rax = 00112233445566AA\n",
    "movsbq  %dl, %rax                   # %rax = FFFFFFFFFFFFFFAA\n",
    "movzbq  %dl, %rax                   # %rax = 00000000000000AA\n",
    "```"
   ]
  },
  {
   "cell_type": "markdown",
   "metadata": {},
   "source": [
    "Leab(l)(q) = Load Effective Address  \n",
    "```asm\n",
    "leaq Sec, Dst  \n",
    "Src is adress mode expression  \n",
    "Set Dst to address denoted by expression  \n",
    "```  "
   ]
  },
  {
   "cell_type": "markdown",
   "metadata": {},
   "source": [
    "long m12 (long x)\n",
    "{\n",
    "    return x*12;\n",
    "}"
   ]
  },
  {
   "cell_type": "markdown",
   "metadata": {},
   "source": [
    "```asm\n",
    "leaq    (%rdi, %rdi, 2) %rax    # t <- x+x*2\n",
    "salq    $2, %rax                # return t<<2\n",
    "```"
   ]
  }
 ],
 "metadata": {
  "language_info": {
   "name": "python"
  },
  "orig_nbformat": 4
 },
 "nbformat": 4,
 "nbformat_minor": 2
}
