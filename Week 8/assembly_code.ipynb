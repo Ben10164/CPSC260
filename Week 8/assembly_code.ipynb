{
 "cells": [
  {
   "cell_type": "markdown",
   "metadata": {},
   "source": [
    "# Assembly Code, Arithmetic & Logical Operations"
   ]
  },
  {
   "cell_type": "markdown",
   "metadata": {},
   "source": [
    "C file -> Assembly -> exe  \n",
    "reverse engineering: using a disassembler to make the exe a .S (assembly)  \n"
   ]
  },
  {
   "cell_type": "markdown",
   "metadata": {},
   "source": [
    "load: `lea`(load effective address)`q`(l,b,or q depending on the type)  \n",
    "leaq(x,y,s): s (scalar) must be a power of 2 (depending on the compiler)"
   ]
  },
  {
   "cell_type": "markdown",
   "metadata": {},
   "source": [
    "```asm\n",
    "# 5x + 7\n",
    "leaq 7(%rdx, %rdx, 4), %rax\n",
    "# 7 + (rdx + (rdxx*4)), a bit conveluted but works\n",
    "\n",
    "# 7x + 6\n",
    "# 4x + 2x + x + 6!\n",
    "leaq (%rdx, %rdx, 2), %rax\n",
    "# now rax is equal to 2x + x\n",
    "leaq 6(%rax, %rdx, 4)\n",
    "# 6+((2x + x)*(x*4))\n",
    "# 7x + 6\n",
    "\n",
    "# rbx -> b\n",
    "# %rdx -> q\n",
    "\n",
    "leaq 9(%rdx), %rax # q + 9 \n",
    "leaq (%rdx, %rbx), %rax # p+q\n",
    "leaq 2(%rbx, %rbx, 7), %rax # 7*b + b + 2 -> 8*b + 2\n",
    "leaq 2(%rbx, %rdx, 7), %rax # 7*q + b + 2\n",
    "lead 0xE(,%rdx, 3), %rax # 3*q + 0xE -> 3*q + 14\n",
    "```"
   ]
  },
  {
   "cell_type": "markdown",
   "metadata": {},
   "source": [
    "```c\n",
    "long scale (long x, long y, long x){\n",
    "    long t = x + 4 * y + 12 * z;\n",
    "    return t;\n",
    "}\n",
    "```"
   ]
  },
  {
   "cell_type": "markdown",
   "metadata": {},
   "source": [
    "```asm\n",
    "x -> %rdi\n",
    "y -> %rsi\n",
    "z -> %rdx\n",
    "\n",
    "scale:\n",
    "leaq(%rdi, %rsi, 4), %rax # %rax = x + 4 * y\n",
    "leaq(%rdx, %rdx, 2), %rdx # %rdx = z + 2 * z (aka 3 * z)\n",
    "leaq(%rax, %rdx, 4), %rax # (x + 4 * y) + 4 * (3 * z)\n",
    "# x + 4 * y + 12 * z = (x + 4 * y) + 4 * (3 * z)\n",
    "```"
   ]
  },
  {
   "cell_type": "markdown",
   "metadata": {},
   "source": [
    "```asm\n",
    "scale3:\n",
    "x -> %rdi\n",
    "y -> %rsi\n",
    "z -> %rdx\n",
    "\n",
    "leaq(%rsi, %rsi, 9), %rbx # %rbx = 10 * y\n",
    "leaq(%rbx, %rdx), %rbx # %rbx = (10 * y) + z\n",
    "leaq(%rbx, %rdi, %rsi), %rbx # %rbx = ((10 * y) + z) + y * x\n",
    "```"
   ]
  },
  {
   "cell_type": "markdown",
   "metadata": {},
   "source": [
    "```asm\n",
    "addq = addition (x + 1) = y, stored in y\n",
    "subq = subtraction (x - 1) = y, stored in y\n",
    "imulq = multiplication (x * 3) = y, stored in y\n",
    "incq = incrementation (x++), keeps it inside the x\n",
    "decq = decremation (x--), keeps it inside the x\n",
    "```"
   ]
  }
 ],
 "metadata": {
  "language_info": {
   "name": "plaintext"
  },
  "orig_nbformat": 4
 },
 "nbformat": 4,
 "nbformat_minor": 2
}
