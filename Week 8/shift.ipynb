{
 "cells": [
  {
   "cell_type": "markdown",
   "metadata": {},
   "source": [
    "### Shifting\n",
    "think of it like `S` means shift, then there is an `a`, then after that either an `l` or a `r` for left or right  \n",
    "e.g. \n",
    "```asm\n",
    "Sal K, D # left shift k amount at D\n",
    "Sar K, D # right shift k amount at d\n",
    "```"
   ]
  }
 ],
 "metadata": {
  "language_info": {
   "name": "python"
  },
  "orig_nbformat": 4
 },
 "nbformat": 4,
 "nbformat_minor": 2
}
