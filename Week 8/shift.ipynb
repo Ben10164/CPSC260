{
 "cells": [
  {
   "cell_type": "markdown",
   "metadata": {},
   "source": [
    "```asm\n",
    "Sal K, D # left shift k amount at D\n",
    "```\n",
    "# this"
   ]
  }
 ],
 "metadata": {
  "language_info": {
   "name": "python"
  },
  "orig_nbformat": 4
 },
 "nbformat": 4,
 "nbformat_minor": 2
}
